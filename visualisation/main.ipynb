{
 "cells": [
  {
   "cell_type": "code",
   "execution_count": 1,
   "metadata": {},
   "outputs": [],
   "source": [
    "import pandas as pd\n",
    "import matplotlib.pyplot as plt"
   ]
  },
  {
   "cell_type": "code",
   "execution_count": 54,
   "metadata": {},
   "outputs": [
    {
     "data": {
      "text/html": [
       "<div>\n",
       "<style scoped>\n",
       "    .dataframe tbody tr th:only-of-type {\n",
       "        vertical-align: middle;\n",
       "    }\n",
       "\n",
       "    .dataframe tbody tr th {\n",
       "        vertical-align: top;\n",
       "    }\n",
       "\n",
       "    .dataframe thead th {\n",
       "        text-align: right;\n",
       "    }\n",
       "</style>\n",
       "<table border=\"1\" class=\"dataframe\">\n",
       "  <thead>\n",
       "    <tr style=\"text-align: right;\">\n",
       "      <th></th>\n",
       "      <th>id</th>\n",
       "      <th>lat</th>\n",
       "      <th>lon</th>\n",
       "      <th>color</th>\n",
       "    </tr>\n",
       "  </thead>\n",
       "  <tbody>\n",
       "    <tr>\n",
       "      <th>0</th>\n",
       "      <td>862e0825-6487-4a55-b0a4-a88c3d10796c</td>\n",
       "      <td>48.648833</td>\n",
       "      <td>27.888375</td>\n",
       "      <td>Blue</td>\n",
       "    </tr>\n",
       "    <tr>\n",
       "      <th>1</th>\n",
       "      <td>354f6ea5-e478-4bec-bd9b-6acb3546bf81</td>\n",
       "      <td>48.617103</td>\n",
       "      <td>27.925829</td>\n",
       "      <td>Blue</td>\n",
       "    </tr>\n",
       "    <tr>\n",
       "      <th>2</th>\n",
       "      <td>d1e71fcf-547c-4d8e-ba8e-a27c4f2073ad</td>\n",
       "      <td>49.071264</td>\n",
       "      <td>29.650532</td>\n",
       "      <td>Green</td>\n",
       "    </tr>\n",
       "    <tr>\n",
       "      <th>3</th>\n",
       "      <td>084499bd-d31a-47a9-bad6-87cd45166542</td>\n",
       "      <td>49.084369</td>\n",
       "      <td>28.176613</td>\n",
       "      <td>Blue</td>\n",
       "    </tr>\n",
       "    <tr>\n",
       "      <th>4</th>\n",
       "      <td>0442a888-a80b-4ec5-889a-99909c43a78d</td>\n",
       "      <td>49.518235</td>\n",
       "      <td>28.801034</td>\n",
       "      <td>Blue</td>\n",
       "    </tr>\n",
       "    <tr>\n",
       "      <th>...</th>\n",
       "      <td>...</td>\n",
       "      <td>...</td>\n",
       "      <td>...</td>\n",
       "      <td>...</td>\n",
       "    </tr>\n",
       "    <tr>\n",
       "      <th>95</th>\n",
       "      <td>138c2106-02a2-4d76-ba3a-6d1351e68eda</td>\n",
       "      <td>56.554057</td>\n",
       "      <td>37.643194</td>\n",
       "      <td>Green</td>\n",
       "    </tr>\n",
       "    <tr>\n",
       "      <th>96</th>\n",
       "      <td>1079a4b7-8ad7-4ea1-89f0-a3c911de25b4</td>\n",
       "      <td>56.365269</td>\n",
       "      <td>39.779252</td>\n",
       "      <td>Green</td>\n",
       "    </tr>\n",
       "    <tr>\n",
       "      <th>97</th>\n",
       "      <td>c4af81a0-76e8-42d6-97eb-8bf05db54221</td>\n",
       "      <td>57.045199</td>\n",
       "      <td>41.097308</td>\n",
       "      <td>Green</td>\n",
       "    </tr>\n",
       "    <tr>\n",
       "      <th>98</th>\n",
       "      <td>6a0d702f-26cb-44e0-bd51-0f31a3998b97</td>\n",
       "      <td>57.279843</td>\n",
       "      <td>39.962169</td>\n",
       "      <td>Green</td>\n",
       "    </tr>\n",
       "    <tr>\n",
       "      <th>99</th>\n",
       "      <td>26467a39-b876-4402-8521-26b2f8cd33e7</td>\n",
       "      <td>57.234842</td>\n",
       "      <td>40.685606</td>\n",
       "      <td>Green</td>\n",
       "    </tr>\n",
       "  </tbody>\n",
       "</table>\n",
       "<p>100 rows × 4 columns</p>\n",
       "</div>"
      ],
      "text/plain": [
       "                                      id        lat        lon  color\n",
       "0   862e0825-6487-4a55-b0a4-a88c3d10796c  48.648833  27.888375   Blue\n",
       "1   354f6ea5-e478-4bec-bd9b-6acb3546bf81  48.617103  27.925829   Blue\n",
       "2   d1e71fcf-547c-4d8e-ba8e-a27c4f2073ad  49.071264  29.650532  Green\n",
       "3   084499bd-d31a-47a9-bad6-87cd45166542  49.084369  28.176613   Blue\n",
       "4   0442a888-a80b-4ec5-889a-99909c43a78d  49.518235  28.801034   Blue\n",
       "..                                   ...        ...        ...    ...\n",
       "95  138c2106-02a2-4d76-ba3a-6d1351e68eda  56.554057  37.643194  Green\n",
       "96  1079a4b7-8ad7-4ea1-89f0-a3c911de25b4  56.365269  39.779252  Green\n",
       "97  c4af81a0-76e8-42d6-97eb-8bf05db54221  57.045199  41.097308  Green\n",
       "98  6a0d702f-26cb-44e0-bd51-0f31a3998b97  57.279843  39.962169  Green\n",
       "99  26467a39-b876-4402-8521-26b2f8cd33e7  57.234842  40.685606  Green\n",
       "\n",
       "[100 rows x 4 columns]"
      ]
     },
     "execution_count": 54,
     "metadata": {},
     "output_type": "execute_result"
    }
   ],
   "source": [
    "points = pd.read_csv('points.csv')\n",
    "points"
   ]
  },
  {
   "cell_type": "code",
   "execution_count": 55,
   "metadata": {},
   "outputs": [
    {
     "data": {
      "image/png": "[encoded data removed]",
      "text/plain": [
       "<Figure size 640x480 with 1 Axes>"
      ]
     },
     "metadata": {},
     "output_type": "display_data"
    }
   ],
   "source": [
    "def draw_values(df: pd.DataFrame) -> None:\n",
    "    ax = plt.gca()\n",
    "    \n",
    "    for color in df['color'].unique():\n",
    "        colored_df = df[df['color'] == color] \n",
    "        colored_df.plot(kind='scatter', x='lon', y='lat',grid=True, stacked=True, ax=ax, color=color, s=10)\n",
    "    plt.show()\n",
    "\n",
    "draw_values(points)"
   ]
  },
  {
   "cell_type": "code",
   "execution_count": null,
   "metadata": {},
   "outputs": [],
   "source": []
  }
 ],
 "metadata": {
  "kernelspec": {
   "display_name": "Python 3",
   "language": "python",
   "name": "python3"
  },
  "language_info": {
   "codemirror_mode": {
    "name": "ipython",
    "version": 3
   },
   "file_extension": ".py",
   "mimetype": "text/x-python",
   "name": "python",
   "nbconvert_exporter": "python",
   "pygments_lexer": "ipython3",
   "version": "3.9.6"
  },
  "orig_nbformat": 4
 },
 "nbformat": 4,
 "nbformat_minor": 2
}
